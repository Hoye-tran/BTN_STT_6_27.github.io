{
 "cells": [
  {
   "cell_type": "code",
   "execution_count": 1,
   "metadata": {},
   "outputs": [
    {
     "ename": "ModuleNotFoundError",
     "evalue": "No module named 'underthesea'",
     "output_type": "error",
     "traceback": [
      "\u001b[1;31m---------------------------------------------------------------------------\u001b[0m",
      "\u001b[1;31mModuleNotFoundError\u001b[0m                       Traceback (most recent call last)",
      "\u001b[1;32md:\\HK 1 - 3\\KHAI PHÁ DỮ LIỆU WEB\\BAI_ON\\BTN_C4\\6_27_Cau1.ipynb Cell 1\u001b[0m line \u001b[0;36m6\n\u001b[0;32m      <a href='vscode-notebook-cell:/d%3A/HK%201%20-%203/KHAI%20PH%C3%81%20D%E1%BB%AE%20LI%E1%BB%86U%20WEB/BAI_ON/BTN_C4/6_27_Cau1.ipynb#W0sZmlsZQ%3D%3D?line=3'>4</a>\u001b[0m \u001b[39mfrom\u001b[39;00m \u001b[39murllib\u001b[39;00m\u001b[39m.\u001b[39;00m\u001b[39mparse\u001b[39;00m \u001b[39mimport\u001b[39;00m urlsplit\n\u001b[0;32m      <a href='vscode-notebook-cell:/d%3A/HK%201%20-%203/KHAI%20PH%C3%81%20D%E1%BB%AE%20LI%E1%BB%86U%20WEB/BAI_ON/BTN_C4/6_27_Cau1.ipynb#W0sZmlsZQ%3D%3D?line=4'>5</a>\u001b[0m \u001b[39mfrom\u001b[39;00m \u001b[39mnltk\u001b[39;00m\u001b[39m.\u001b[39;00m\u001b[39mcorpus\u001b[39;00m \u001b[39mimport\u001b[39;00m stopwords\n\u001b[1;32m----> <a href='vscode-notebook-cell:/d%3A/HK%201%20-%203/KHAI%20PH%C3%81%20D%E1%BB%AE%20LI%E1%BB%86U%20WEB/BAI_ON/BTN_C4/6_27_Cau1.ipynb#W0sZmlsZQ%3D%3D?line=5'>6</a>\u001b[0m \u001b[39mfrom\u001b[39;00m \u001b[39munderthesea\u001b[39;00m \u001b[39mimport\u001b[39;00m word_tokenize\n\u001b[0;32m      <a href='vscode-notebook-cell:/d%3A/HK%201%20-%203/KHAI%20PH%C3%81%20D%E1%BB%AE%20LI%E1%BB%86U%20WEB/BAI_ON/BTN_C4/6_27_Cau1.ipynb#W0sZmlsZQ%3D%3D?line=6'>7</a>\u001b[0m \u001b[39mfrom\u001b[39;00m \u001b[39mtextblob\u001b[39;00m \u001b[39mimport\u001b[39;00m TextBlob\n\u001b[0;32m      <a href='vscode-notebook-cell:/d%3A/HK%201%20-%203/KHAI%20PH%C3%81%20D%E1%BB%AE%20LI%E1%BB%86U%20WEB/BAI_ON/BTN_C4/6_27_Cau1.ipynb#W0sZmlsZQ%3D%3D?line=7'>8</a>\u001b[0m \u001b[39mfrom\u001b[39;00m \u001b[39memot\u001b[39;00m\u001b[39m.\u001b[39;00m\u001b[39memo_unicode\u001b[39;00m \u001b[39mimport\u001b[39;00m UNICODE_EMOJI \u001b[39m# For emojis\u001b[39;00m\n",
      "\u001b[1;31mModuleNotFoundError\u001b[0m: No module named 'underthesea'"
     ]
    }
   ],
   "source": [
    "import os\n",
    "import re\n",
    "import nltk\n",
    "from urllib.parse import urlsplit\n",
    "from nltk.corpus import stopwords\n",
    "from underthesea import word_tokenize\n",
    "from textblob import TextBlob\n",
    "from emot.emo_unicode import UNICODE_EMOJI # For emojis\n",
    "from emot.emo_unicode import EMOTICONS_EMO # For EMOTICONS\n",
    "import shutil\n",
    "\n",
    "# Thư mục nguồn\n",
    "source_dir = 'D:/Khai_Pha_Web/BTN_C4/Data3'\n",
    "\n",
    "# Thư mục đích\n",
    "destination_dir = 'D:/Khai_Pha_Web/BTN_C4/Data_Preprocessing'\n",
    "\n",
    "for file in os.listdir(source_dir):\n",
    "  # Đọc nội dung của tệp\n",
    "    with open(os.path.join(source_dir, file), 'r', encoding='utf-8') as f:\n",
    "        text = f.read()\n",
    "\n",
    "    text_pre=text.replace(\"\\n\",\"\")    \n",
    "    text_pre=text.lower() # Chuyển văn bản thành chữ thường    \n",
    "    text_pre = re.sub(r\"http(s)?://\\S+\", \"\", text_pre) # Loại bỏ URL\n",
    "   \n",
    "    # Chuyển biểu tượng cảm xúc thành văn bản (Emojis and Emoticons)\n",
    "    def converting_emojis(text):\n",
    "        for x in EMOTICONS_EMO:\n",
    "            text = text.replace(x, \"_\".join(EMOTICONS_EMO[x].replace(\",\",\"\").replace(\":\",\"\").split()))\n",
    "        for x in UNICODE_EMOJI:\n",
    "            text = text.replace(x, \"_\".join(UNICODE_EMOJI[x].replace(\",\",\"\").replace(\":\",\"\").split()))\n",
    "        return text\n",
    "    text_pre=converting_emojis(text_pre)\n",
    "\n",
    "    text_pre=re.sub(r'[^\\w\\s]','',text_pre) # Xóa dấu câu\n",
    "    text_pre = re.sub(\"\\d+\", \" \", text_pre) # Xóa chữ số\n",
    "    text_pre = re.sub(r\"[!@#$[]()]'\", \"\", text_pre) # Remove character: !@#$[]()\n",
    "    text_pre = nltk.sent_tokenize(text_pre) # Tách câu\n",
    "    text_pre = ''.join(text_pre)\n",
    "\n",
    "    # Chuẩn hóa văn bản:\n",
    "    lookup_dict = {'ko':'không', 'p':'phút', 'h' : 'giờ','k':'không','ad':'admin','r':'rồi','vs':'với','t':'thứ','kg':'không','nc':'nói chuyện','dt':'điện thoại', 'trc':'trước','bthg':'bình thường','ord':'order'}\n",
    "    def text_std(input_text):\n",
    "        words = input_text.split()\n",
    "        # Get Abbreviations Words\n",
    "        text_pre=\"\"\n",
    "        for word in words:\n",
    "            w=word\n",
    "            w = re.sub(r'[^\\w\\s]','',w) #Removing Punctuation\n",
    "            if w.lower() in lookup_dict:\n",
    "                word=lookup_dict[w]\n",
    "            text_pre=text_pre + \" \" + word \n",
    "        return text_pre\n",
    "    text_pre=text_std(text_pre)\n",
    "\n",
    "    # Xóa các từ không có nghĩa (Stop Words);\n",
    "    path=os.path.join(\"D:/Khai_Pha_Web/BTN_C4\")\n",
    "    f = open(path+r\"/vietnamese-stopwords.txt\", \"r\", encoding=\"utf-8\")\n",
    "    List_StopWords=f.read().split(\"\\n\")\n",
    "    text_pre=\" \".join(text_pre for text_pre in text_pre.split() if text_pre not in List_StopWords)\n",
    "    \n",
    "    # text_pre=TextBlob(text_pre).correct() # Sửa lỗi chính tả\n",
    "\n",
    "    text_pre = nltk.word_tokenize(text_pre) # Tách từ (Tokenizing)\n",
    "    text_pre = ' '.join(text_pre)\n",
    "\n",
    "    # Ghi nội dung đã được tiền xử lý vào một tệp mới\n",
    "    with open(os.path.join(destination_dir, file), 'w',encoding='utf-8') as f:\n",
    "        f.write(text_pre)\n"
   ]
  }
 ],
 "metadata": {
  "kernelspec": {
   "display_name": "Python 3",
   "language": "python",
   "name": "python3"
  },
  "language_info": {
   "codemirror_mode": {
    "name": "ipython",
    "version": 3
   },
   "file_extension": ".py",
   "mimetype": "text/x-python",
   "name": "python",
   "nbconvert_exporter": "python",
   "pygments_lexer": "ipython3",
   "version": "3.11.4"
  }
 },
 "nbformat": 4,
 "nbformat_minor": 2
}
